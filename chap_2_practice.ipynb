{
 "cells": [
  {
   "attachments": {},
   "cell_type": "markdown",
   "metadata": {},
   "source": [
    "# Time to do some importing"
   ]
  },
  {
   "cell_type": "code",
   "execution_count": 1,
   "metadata": {},
   "outputs": [
    {
     "name": "stderr",
     "output_type": "stream",
     "text": [
      "c:\\Users\\ukpsa\\AppData\\Local\\Programs\\Python\\Python310\\lib\\site-packages\\numpy\\_distributor_init.py:30: UserWarning: loaded more than 1 DLL from .libs:\n",
      "c:\\Users\\ukpsa\\AppData\\Local\\Programs\\Python\\Python310\\lib\\site-packages\\numpy\\.libs\\libopenblas.FB5AE2TYXYH2IJRDKGDGQ3XBKLKTF43H.gfortran-win_amd64.dll\n",
      "c:\\Users\\ukpsa\\AppData\\Local\\Programs\\Python\\Python310\\lib\\site-packages\\numpy\\.libs\\libopenblas.XWYDX2IKJW2NMTWSFYNGFUWKQU3LYTCZ.gfortran-win_amd64.dll\n",
      "  warnings.warn(\"loaded more than 1 DLL from .libs:\"\n"
     ]
    }
   ],
   "source": [
    "import numpy as np\n",
    "import pandas as pd\n",
    "import datetime as dt"
   ]
  },
  {
   "cell_type": "code",
   "execution_count": 2,
   "metadata": {},
   "outputs": [
    {
     "data": {
      "text/plain": [
       "0    0.548814\n",
       "1    0.715189\n",
       "2    0.602763\n",
       "3    0.544883\n",
       "4    0.423655\n",
       "Name: random_numbers, dtype: float64"
      ]
     },
     "execution_count": 2,
     "metadata": {},
     "output_type": "execute_result"
    }
   ],
   "source": [
    "np.random.seed(0) # set a seed for reproducibility\n",
    "pd.Series(np.random.rand(5), name='random_numbers')"
   ]
  },
  {
   "attachments": {},
   "cell_type": "markdown",
   "metadata": {},
   "source": [
    "A Series object in pandas has one column, that column is after the indices. <br>\n",
    "A DataFrame in pandas has multiple columns, which basically represents a spreadsheet of data."
   ]
  },
  {
   "cell_type": "code",
   "execution_count": 3,
   "metadata": {},
   "outputs": [
    {
     "data": {
      "text/html": [
       "<div>\n",
       "<style scoped>\n",
       "    .dataframe tbody tr th:only-of-type {\n",
       "        vertical-align: middle;\n",
       "    }\n",
       "\n",
       "    .dataframe tbody tr th {\n",
       "        vertical-align: top;\n",
       "    }\n",
       "\n",
       "    .dataframe thead th {\n",
       "        text-align: right;\n",
       "    }\n",
       "</style>\n",
       "<table border=\"1\" class=\"dataframe\">\n",
       "  <thead>\n",
       "    <tr style=\"text-align: right;\">\n",
       "      <th></th>\n",
       "      <th>random</th>\n",
       "      <th>text</th>\n",
       "      <th>truth</th>\n",
       "    </tr>\n",
       "    <tr>\n",
       "      <th>date</th>\n",
       "      <th></th>\n",
       "      <th></th>\n",
       "      <th></th>\n",
       "    </tr>\n",
       "  </thead>\n",
       "  <tbody>\n",
       "    <tr>\n",
       "      <th>2019-04-17</th>\n",
       "      <td>0.548814</td>\n",
       "      <td>hot</td>\n",
       "      <td>False</td>\n",
       "    </tr>\n",
       "    <tr>\n",
       "      <th>2019-04-18</th>\n",
       "      <td>0.715189</td>\n",
       "      <td>warm</td>\n",
       "      <td>True</td>\n",
       "    </tr>\n",
       "    <tr>\n",
       "      <th>2019-04-19</th>\n",
       "      <td>0.602763</td>\n",
       "      <td>cool</td>\n",
       "      <td>True</td>\n",
       "    </tr>\n",
       "    <tr>\n",
       "      <th>2019-04-20</th>\n",
       "      <td>0.544883</td>\n",
       "      <td>cold</td>\n",
       "      <td>False</td>\n",
       "    </tr>\n",
       "    <tr>\n",
       "      <th>2019-04-21</th>\n",
       "      <td>0.423655</td>\n",
       "      <td>None</td>\n",
       "      <td>True</td>\n",
       "    </tr>\n",
       "  </tbody>\n",
       "</table>\n",
       "</div>"
      ],
      "text/plain": [
       "              random  text  truth\n",
       "date                             \n",
       "2019-04-17  0.548814   hot  False\n",
       "2019-04-18  0.715189  warm   True\n",
       "2019-04-19  0.602763  cool   True\n",
       "2019-04-20  0.544883  cold  False\n",
       "2019-04-21  0.423655  None   True"
      ]
     },
     "execution_count": 3,
     "metadata": {},
     "output_type": "execute_result"
    }
   ],
   "source": [
    "np.random.seed(0) # set seed so result is reproducible\n",
    "pd.DataFrame(\n",
    " {\n",
    "    'random': np.random.rand(5),\n",
    "    'text': ['hot', 'warm', 'cool', 'cold', None],\n",
    "    'truth': [np.random.choice([True, False])\n",
    "        for _ in range(5)]\n",
    "},\n",
    "    index=pd.date_range(\n",
    "        end=dt.date(2019, 4, 21),\n",
    "        freq='1D', periods=5, name='date'\n",
    "    )\n",
    " )"
   ]
  },
  {
   "cell_type": "code",
   "execution_count": 4,
   "metadata": {},
   "outputs": [
    {
     "data": {
      "text/html": [
       "<div>\n",
       "<style scoped>\n",
       "    .dataframe tbody tr th:only-of-type {\n",
       "        vertical-align: middle;\n",
       "    }\n",
       "\n",
       "    .dataframe tbody tr th {\n",
       "        vertical-align: top;\n",
       "    }\n",
       "\n",
       "    .dataframe thead th {\n",
       "        text-align: right;\n",
       "    }\n",
       "</style>\n",
       "<table border=\"1\" class=\"dataframe\">\n",
       "  <thead>\n",
       "    <tr style=\"text-align: right;\">\n",
       "      <th></th>\n",
       "      <th>n</th>\n",
       "      <th>n_squared</th>\n",
       "      <th>n_cubed</th>\n",
       "    </tr>\n",
       "  </thead>\n",
       "  <tbody>\n",
       "    <tr>\n",
       "      <th>0</th>\n",
       "      <td>0</td>\n",
       "      <td>0</td>\n",
       "      <td>0</td>\n",
       "    </tr>\n",
       "    <tr>\n",
       "      <th>1</th>\n",
       "      <td>1</td>\n",
       "      <td>1</td>\n",
       "      <td>1</td>\n",
       "    </tr>\n",
       "    <tr>\n",
       "      <th>2</th>\n",
       "      <td>2</td>\n",
       "      <td>4</td>\n",
       "      <td>8</td>\n",
       "    </tr>\n",
       "    <tr>\n",
       "      <th>3</th>\n",
       "      <td>3</td>\n",
       "      <td>9</td>\n",
       "      <td>27</td>\n",
       "    </tr>\n",
       "    <tr>\n",
       "      <th>4</th>\n",
       "      <td>4</td>\n",
       "      <td>16</td>\n",
       "      <td>64</td>\n",
       "    </tr>\n",
       "  </tbody>\n",
       "</table>\n",
       "</div>"
      ],
      "text/plain": [
       "   n  n_squared  n_cubed\n",
       "0  0          0        0\n",
       "1  1          1        1\n",
       "2  2          4        8\n",
       "3  3          9       27\n",
       "4  4         16       64"
      ]
     },
     "execution_count": 4,
     "metadata": {},
     "output_type": "execute_result"
    }
   ],
   "source": [
    "list_of_tuples = [(n, n**2, n**3) for n in range(5)]\n",
    "pd.DataFrame(\n",
    "    list_of_tuples,\n",
    "    columns=['n', 'n_squared', 'n_cubed']\n",
    ") # making a Dataframe out of a lits of tuples, not sure how this is useful but it's cool"
   ]
  },
  {
   "cell_type": "code",
   "execution_count": 5,
   "metadata": {},
   "outputs": [
    {
     "data": {
      "text/html": [
       "<div>\n",
       "<style scoped>\n",
       "    .dataframe tbody tr th:only-of-type {\n",
       "        vertical-align: middle;\n",
       "    }\n",
       "\n",
       "    .dataframe tbody tr th {\n",
       "        vertical-align: top;\n",
       "    }\n",
       "\n",
       "    .dataframe thead th {\n",
       "        text-align: right;\n",
       "    }\n",
       "</style>\n",
       "<table border=\"1\" class=\"dataframe\">\n",
       "  <thead>\n",
       "    <tr style=\"text-align: right;\">\n",
       "      <th></th>\n",
       "      <th>n</th>\n",
       "      <th>n_squared</th>\n",
       "      <th>n_cubed</th>\n",
       "    </tr>\n",
       "  </thead>\n",
       "  <tbody>\n",
       "    <tr>\n",
       "      <th>0</th>\n",
       "      <td>0</td>\n",
       "      <td>0</td>\n",
       "      <td>0</td>\n",
       "    </tr>\n",
       "    <tr>\n",
       "      <th>1</th>\n",
       "      <td>1</td>\n",
       "      <td>1</td>\n",
       "      <td>1</td>\n",
       "    </tr>\n",
       "    <tr>\n",
       "      <th>2</th>\n",
       "      <td>2</td>\n",
       "      <td>4</td>\n",
       "      <td>8</td>\n",
       "    </tr>\n",
       "    <tr>\n",
       "      <th>3</th>\n",
       "      <td>3</td>\n",
       "      <td>9</td>\n",
       "      <td>27</td>\n",
       "    </tr>\n",
       "    <tr>\n",
       "      <th>4</th>\n",
       "      <td>4</td>\n",
       "      <td>16</td>\n",
       "      <td>64</td>\n",
       "    </tr>\n",
       "  </tbody>\n",
       "</table>\n",
       "</div>"
      ],
      "text/plain": [
       "   n  n_squared  n_cubed\n",
       "0  0          0        0\n",
       "1  1          1        1\n",
       "2  2          4        8\n",
       "3  3          9       27\n",
       "4  4         16       64"
      ]
     },
     "execution_count": 5,
     "metadata": {},
     "output_type": "execute_result"
    }
   ],
   "source": [
    "pd.DataFrame(\n",
    "    np.array([\n",
    "        [0, 0, 0],\n",
    "        [1, 1, 1],\n",
    "        [2, 4, 8],\n",
    "        [3, 9, 27],\n",
    "        [4, 16, 64]\n",
    "        ]), columns=['n', 'n_squared', 'n_cubed']\n",
    ") # creating a DataFrame out of a numpy array"
   ]
  },
  {
   "cell_type": "code",
   "execution_count": 6,
   "metadata": {},
   "outputs": [
    {
     "name": "stdout",
     "output_type": "stream",
     "text": [
      "File does not have headers.\n"
     ]
    }
   ],
   "source": [
    "with open(r'C:\\Users\\ukpsa\\Downloads\\Hands-On-Data-Analysis-with-Pandas-2nd-edition-master\\ch_02\\data\\earthquakes.csv', 'r') as f:\n",
    "    first_line = f.readline().strip()\n",
    "    if first_line.startswith('header1,header2,header3'):\n",
    "        headers = first_line.split(',')\n",
    "        print(headers)\n",
    "    else:\n",
    "        print('File does not have headers.')"
   ]
  },
  {
   "cell_type": "code",
   "execution_count": 7,
   "metadata": {},
   "outputs": [
    {
     "name": "stdout",
     "output_type": "stream",
     "text": [
      "alert,cdi,code,detail,dmin,felt,gap,ids,mag,magType,mmi,net,nst,place,rms,sig,sources,status,time,title,tsunami,type,types,tz,updated,url\n",
      ",,37389218,https://earthquake.usgs.gov/fdsnws/event/1/query?eventid=ci37389218&format=geojson,0.008693,,85.0,\",ci37389218,\",1.35,ml,,ci,26.0,\"9km NE of Aguanga, CA\",0.19,28,\",ci,\",automatic,1539475168010,\"M 1.4 - 9km NE of Aguanga, CA\",0,earthquake,\",geoserve,nearby-cities,origin,phase-data,\",-480.0,1539475395144,https://earthquake.usgs.gov/earthquakes/eventpage/ci37389218\n",
      "\r"
     ]
    }
   ],
   "source": [
    "n = 2\n",
    "with open('data/earthquakes.csv', 'r') as file:\n",
    "    for _ in range(n):\n",
    "        print(file.readline(), end='\\r')"
   ]
  },
  {
   "cell_type": "code",
   "execution_count": 8,
   "metadata": {},
   "outputs": [
    {
     "name": "stdout",
     "output_type": "stream",
     "text": [
      "\n",
      "---------- DATA\\EARTHQUAKES.CSV: 9333\n"
     ]
    }
   ],
   "source": [
    "!find /c /v \"\" data\\earthquakes.csv"
   ]
  },
  {
   "cell_type": "code",
   "execution_count": 9,
   "metadata": {},
   "outputs": [
    {
     "name": "stdout",
     "output_type": "stream",
     "text": [
      "26\n"
     ]
    }
   ],
   "source": [
    "with open('data/earthquakes.csv', 'r') as f:\n",
    "    first_line = f.readline().strip()\n",
    "    column_count = first_line.count(',') + 1\n",
    "print(column_count)"
   ]
  },
  {
   "cell_type": "code",
   "execution_count": 10,
   "metadata": {},
   "outputs": [],
   "source": [
    "df = pd.read_csv('data/earthquakes.csv')"
   ]
  },
  {
   "cell_type": "code",
   "execution_count": 11,
   "metadata": {},
   "outputs": [],
   "source": [
    "import sqlite3\n",
    "with sqlite3.connect('data/quakes.db') as connection:\n",
    "    pd.read_csv('data/tsunamis.csv').to_sql(\n",
    "    'tsunamis', connection, index=False,\n",
    "    if_exists='replace'\n",
    ")"
   ]
  },
  {
   "cell_type": "code",
   "execution_count": 12,
   "metadata": {},
   "outputs": [
    {
     "data": {
      "text/html": [
       "<div>\n",
       "<style scoped>\n",
       "    .dataframe tbody tr th:only-of-type {\n",
       "        vertical-align: middle;\n",
       "    }\n",
       "\n",
       "    .dataframe tbody tr th {\n",
       "        vertical-align: top;\n",
       "    }\n",
       "\n",
       "    .dataframe thead th {\n",
       "        text-align: right;\n",
       "    }\n",
       "</style>\n",
       "<table border=\"1\" class=\"dataframe\">\n",
       "  <thead>\n",
       "    <tr style=\"text-align: right;\">\n",
       "      <th></th>\n",
       "      <th>alert</th>\n",
       "      <th>type</th>\n",
       "      <th>title</th>\n",
       "      <th>place</th>\n",
       "      <th>magType</th>\n",
       "      <th>mag</th>\n",
       "      <th>time</th>\n",
       "    </tr>\n",
       "  </thead>\n",
       "  <tbody>\n",
       "    <tr>\n",
       "      <th>0</th>\n",
       "      <td>None</td>\n",
       "      <td>earthquake</td>\n",
       "      <td>M 5.0 - 165km NNW of Flying Fish Cove, Christm...</td>\n",
       "      <td>165km NNW of Flying Fish Cove, Christmas Island</td>\n",
       "      <td>mww</td>\n",
       "      <td>5.0</td>\n",
       "      <td>1539459504090</td>\n",
       "    </tr>\n",
       "    <tr>\n",
       "      <th>1</th>\n",
       "      <td>green</td>\n",
       "      <td>earthquake</td>\n",
       "      <td>M 6.7 - 262km NW of Ozernovskiy, Russia</td>\n",
       "      <td>262km NW of Ozernovskiy, Russia</td>\n",
       "      <td>mww</td>\n",
       "      <td>6.7</td>\n",
       "      <td>1539429023560</td>\n",
       "    </tr>\n",
       "    <tr>\n",
       "      <th>2</th>\n",
       "      <td>green</td>\n",
       "      <td>earthquake</td>\n",
       "      <td>M 5.6 - 128km SE of Kimbe, Papua New Guinea</td>\n",
       "      <td>128km SE of Kimbe, Papua New Guinea</td>\n",
       "      <td>mww</td>\n",
       "      <td>5.6</td>\n",
       "      <td>1539312723620</td>\n",
       "    </tr>\n",
       "    <tr>\n",
       "      <th>3</th>\n",
       "      <td>green</td>\n",
       "      <td>earthquake</td>\n",
       "      <td>M 6.5 - 148km S of Severo-Kuril'sk, Russia</td>\n",
       "      <td>148km S of Severo-Kuril'sk, Russia</td>\n",
       "      <td>mww</td>\n",
       "      <td>6.5</td>\n",
       "      <td>1539213362130</td>\n",
       "    </tr>\n",
       "    <tr>\n",
       "      <th>4</th>\n",
       "      <td>green</td>\n",
       "      <td>earthquake</td>\n",
       "      <td>M 6.2 - 94km SW of Kokopo, Papua New Guinea</td>\n",
       "      <td>94km SW of Kokopo, Papua New Guinea</td>\n",
       "      <td>mww</td>\n",
       "      <td>6.2</td>\n",
       "      <td>1539208835130</td>\n",
       "    </tr>\n",
       "  </tbody>\n",
       "</table>\n",
       "</div>"
      ],
      "text/plain": [
       "   alert        type                                              title  \\\n",
       "0   None  earthquake  M 5.0 - 165km NNW of Flying Fish Cove, Christm...   \n",
       "1  green  earthquake            M 6.7 - 262km NW of Ozernovskiy, Russia   \n",
       "2  green  earthquake        M 5.6 - 128km SE of Kimbe, Papua New Guinea   \n",
       "3  green  earthquake         M 6.5 - 148km S of Severo-Kuril'sk, Russia   \n",
       "4  green  earthquake        M 6.2 - 94km SW of Kokopo, Papua New Guinea   \n",
       "\n",
       "                                             place magType  mag           time  \n",
       "0  165km NNW of Flying Fish Cove, Christmas Island     mww  5.0  1539459504090  \n",
       "1                  262km NW of Ozernovskiy, Russia     mww  6.7  1539429023560  \n",
       "2              128km SE of Kimbe, Papua New Guinea     mww  5.6  1539312723620  \n",
       "3               148km S of Severo-Kuril'sk, Russia     mww  6.5  1539213362130  \n",
       "4              94km SW of Kokopo, Papua New Guinea     mww  6.2  1539208835130  "
      ]
     },
     "execution_count": 12,
     "metadata": {},
     "output_type": "execute_result"
    }
   ],
   "source": [
    "with sqlite3.connect('data/quakes.db') as connection:\n",
    "    tsunamis = \\\n",
    "    pd.read_sql('SELECT * FROM tsunamis', connection)\n",
    "tsunamis.head()"
   ]
  },
  {
   "cell_type": "code",
   "execution_count": 13,
   "metadata": {},
   "outputs": [],
   "source": [
    "import requests"
   ]
  },
  {
   "cell_type": "code",
   "execution_count": 14,
   "metadata": {},
   "outputs": [],
   "source": [
    "yesterday = dt.date.today() - dt.timedelta(days=1)\n",
    "api = 'https://earthquake.usgs.gov/fdsnws/event/1/query'\n",
    "payload = {\n",
    "    'format': 'geojson',\n",
    "    'starttime': yesterday - dt.timedelta(days=30),\n",
    "    'endtime': yesterday\n",
    "}\n",
    "response = requests.get(api, params=payload)"
   ]
  },
  {
   "cell_type": "code",
   "execution_count": 15,
   "metadata": {},
   "outputs": [
    {
     "data": {
      "text/plain": [
       "200"
      ]
     },
     "execution_count": 15,
     "metadata": {},
     "output_type": "execute_result"
    }
   ],
   "source": [
    "response.status_code"
   ]
  },
  {
   "attachments": {},
   "cell_type": "markdown",
   "metadata": {},
   "source": [
    "I asked ChatGPT for what 200 means and it gave me the whole list of status codes<br>\n",
    "200: OK - The request was successful<br>\n",
    "400: Bad Request - The request was malformed or invalid<br>\n",
    "401: Unauthorized - The request requires authentication or authorization<br>\n",
    "403: Forbidden - The request is not allowed<br>\n",
    "404: Not Found - The requested resource was not found<br>\n",
    "500: Internal Server Error - The server encountered an error while processing the request<br>"
   ]
  },
  {
   "attachments": {},
   "cell_type": "markdown",
   "metadata": {},
   "source": [
    "# This is to document my learnings \n",
    "Come back later"
   ]
  },
  {
   "cell_type": "code",
   "execution_count": 16,
   "metadata": {},
   "outputs": [
    {
     "data": {
      "text/plain": [
       "list"
      ]
     },
     "execution_count": 16,
     "metadata": {},
     "output_type": "execute_result"
    }
   ],
   "source": [
    "earthquake_json = response.json()\n",
    "type(earthquake_json['features'])\n",
    "\n"
   ]
  },
  {
   "cell_type": "code",
   "execution_count": 17,
   "metadata": {},
   "outputs": [
    {
     "data": {
      "text/plain": [
       "{'type': 'Feature',\n",
       " 'properties': {'mag': 1.07,\n",
       "  'place': '99 km W of Adak, Alaska',\n",
       "  'time': 1678838396940,\n",
       "  'updated': 1678846967330,\n",
       "  'tz': None,\n",
       "  'url': 'https://earthquake.usgs.gov/earthquakes/eventpage/av91805791',\n",
       "  'detail': 'https://earthquake.usgs.gov/fdsnws/event/1/query?eventid=av91805791&format=geojson',\n",
       "  'felt': None,\n",
       "  'cdi': None,\n",
       "  'mmi': None,\n",
       "  'alert': None,\n",
       "  'status': 'reviewed',\n",
       "  'tsunami': 0,\n",
       "  'sig': 18,\n",
       "  'net': 'av',\n",
       "  'code': '91805791',\n",
       "  'ids': ',av91805791,',\n",
       "  'sources': ',av,',\n",
       "  'types': ',origin,phase-data,',\n",
       "  'nst': 4,\n",
       "  'dmin': None,\n",
       "  'rms': 0.16,\n",
       "  'gap': 207,\n",
       "  'magType': 'ml',\n",
       "  'type': 'earthquake',\n",
       "  'title': 'M 1.1 - 99 km W of Adak, Alaska'},\n",
       " 'geometry': {'type': 'Point', 'coordinates': [-178.0835, 51.857, 3.62]},\n",
       " 'id': 'av91805791'}"
      ]
     },
     "execution_count": 17,
     "metadata": {},
     "output_type": "execute_result"
    }
   ],
   "source": [
    "earthquake_json['features'][0]"
   ]
  },
  {
   "cell_type": "code",
   "execution_count": 18,
   "metadata": {},
   "outputs": [],
   "source": [
    "data_earthquake_properties = [x['properties'] for x in earthquake_json['features']] # making properties dict to become a list\n",
    "df = pd.DataFrame(data_earthquake_properties)"
   ]
  },
  {
   "cell_type": "code",
   "execution_count": 19,
   "metadata": {},
   "outputs": [
    {
     "data": {
      "text/plain": [
       "(12323, 26)"
      ]
     },
     "execution_count": 19,
     "metadata": {},
     "output_type": "execute_result"
    }
   ],
   "source": [
    "df.shape"
   ]
  },
  {
   "cell_type": "code",
   "execution_count": 20,
   "metadata": {},
   "outputs": [
    {
     "data": {
      "text/plain": [
       "Index(['mag', 'place', 'time', 'updated', 'tz', 'url', 'detail', 'felt', 'cdi',\n",
       "       'mmi', 'alert', 'status', 'tsunami', 'sig', 'net', 'code', 'ids',\n",
       "       'sources', 'types', 'nst', 'dmin', 'rms', 'gap', 'magType', 'type',\n",
       "       'title'],\n",
       "      dtype='object')"
      ]
     },
     "execution_count": 20,
     "metadata": {},
     "output_type": "execute_result"
    }
   ],
   "source": [
    "df.columns"
   ]
  },
  {
   "cell_type": "code",
   "execution_count": 21,
   "metadata": {},
   "outputs": [
    {
     "data": {
      "text/html": [
       "<div>\n",
       "<style scoped>\n",
       "    .dataframe tbody tr th:only-of-type {\n",
       "        vertical-align: middle;\n",
       "    }\n",
       "\n",
       "    .dataframe tbody tr th {\n",
       "        vertical-align: top;\n",
       "    }\n",
       "\n",
       "    .dataframe thead th {\n",
       "        text-align: right;\n",
       "    }\n",
       "</style>\n",
       "<table border=\"1\" class=\"dataframe\">\n",
       "  <thead>\n",
       "    <tr style=\"text-align: right;\">\n",
       "      <th></th>\n",
       "      <th>mag</th>\n",
       "      <th>place</th>\n",
       "      <th>time</th>\n",
       "      <th>updated</th>\n",
       "      <th>tz</th>\n",
       "      <th>url</th>\n",
       "      <th>detail</th>\n",
       "      <th>felt</th>\n",
       "      <th>cdi</th>\n",
       "      <th>mmi</th>\n",
       "      <th>...</th>\n",
       "      <th>ids</th>\n",
       "      <th>sources</th>\n",
       "      <th>types</th>\n",
       "      <th>nst</th>\n",
       "      <th>dmin</th>\n",
       "      <th>rms</th>\n",
       "      <th>gap</th>\n",
       "      <th>magType</th>\n",
       "      <th>type</th>\n",
       "      <th>title</th>\n",
       "    </tr>\n",
       "  </thead>\n",
       "  <tbody>\n",
       "    <tr>\n",
       "      <th>0</th>\n",
       "      <td>1.07</td>\n",
       "      <td>99 km W of Adak, Alaska</td>\n",
       "      <td>1678838396940</td>\n",
       "      <td>1678846967330</td>\n",
       "      <td>None</td>\n",
       "      <td>https://earthquake.usgs.gov/earthquakes/eventp...</td>\n",
       "      <td>https://earthquake.usgs.gov/fdsnws/event/1/que...</td>\n",
       "      <td>NaN</td>\n",
       "      <td>NaN</td>\n",
       "      <td>NaN</td>\n",
       "      <td>...</td>\n",
       "      <td>,av91805791,</td>\n",
       "      <td>,av,</td>\n",
       "      <td>,origin,phase-data,</td>\n",
       "      <td>4.0</td>\n",
       "      <td>NaN</td>\n",
       "      <td>0.16</td>\n",
       "      <td>207.0</td>\n",
       "      <td>ml</td>\n",
       "      <td>earthquake</td>\n",
       "      <td>M 1.1 - 99 km W of Adak, Alaska</td>\n",
       "    </tr>\n",
       "    <tr>\n",
       "      <th>1</th>\n",
       "      <td>1.25</td>\n",
       "      <td>90 km W of Adak, Alaska</td>\n",
       "      <td>1678838360840</td>\n",
       "      <td>1678840931640</td>\n",
       "      <td>None</td>\n",
       "      <td>https://earthquake.usgs.gov/earthquakes/eventp...</td>\n",
       "      <td>https://earthquake.usgs.gov/fdsnws/event/1/que...</td>\n",
       "      <td>NaN</td>\n",
       "      <td>NaN</td>\n",
       "      <td>NaN</td>\n",
       "      <td>...</td>\n",
       "      <td>,av91805786,</td>\n",
       "      <td>,av,</td>\n",
       "      <td>,origin,phase-data,</td>\n",
       "      <td>5.0</td>\n",
       "      <td>NaN</td>\n",
       "      <td>0.12</td>\n",
       "      <td>181.0</td>\n",
       "      <td>ml</td>\n",
       "      <td>earthquake</td>\n",
       "      <td>M 1.3 - 90 km W of Adak, Alaska</td>\n",
       "    </tr>\n",
       "    <tr>\n",
       "      <th>2</th>\n",
       "      <td>1.57</td>\n",
       "      <td>89 km W of Adak, Alaska</td>\n",
       "      <td>1678838349120</td>\n",
       "      <td>1678841082540</td>\n",
       "      <td>None</td>\n",
       "      <td>https://earthquake.usgs.gov/earthquakes/eventp...</td>\n",
       "      <td>https://earthquake.usgs.gov/fdsnws/event/1/que...</td>\n",
       "      <td>NaN</td>\n",
       "      <td>NaN</td>\n",
       "      <td>NaN</td>\n",
       "      <td>...</td>\n",
       "      <td>,av91094268,</td>\n",
       "      <td>,av,</td>\n",
       "      <td>,origin,phase-data,</td>\n",
       "      <td>5.0</td>\n",
       "      <td>NaN</td>\n",
       "      <td>0.24</td>\n",
       "      <td>201.0</td>\n",
       "      <td>ml</td>\n",
       "      <td>earthquake</td>\n",
       "      <td>M 1.6 - 89 km W of Adak, Alaska</td>\n",
       "    </tr>\n",
       "    <tr>\n",
       "      <th>3</th>\n",
       "      <td>1.30</td>\n",
       "      <td>35 km SE of Fox River, Alaska</td>\n",
       "      <td>1678838229941</td>\n",
       "      <td>1678842971729</td>\n",
       "      <td>None</td>\n",
       "      <td>https://earthquake.usgs.gov/earthquakes/eventp...</td>\n",
       "      <td>https://earthquake.usgs.gov/fdsnws/event/1/que...</td>\n",
       "      <td>NaN</td>\n",
       "      <td>NaN</td>\n",
       "      <td>NaN</td>\n",
       "      <td>...</td>\n",
       "      <td>,ak0233d49eoh,</td>\n",
       "      <td>,ak,</td>\n",
       "      <td>,origin,phase-data,</td>\n",
       "      <td>NaN</td>\n",
       "      <td>NaN</td>\n",
       "      <td>0.28</td>\n",
       "      <td>NaN</td>\n",
       "      <td>ml</td>\n",
       "      <td>earthquake</td>\n",
       "      <td>M 1.3 - 35 km SE of Fox River, Alaska</td>\n",
       "    </tr>\n",
       "    <tr>\n",
       "      <th>4</th>\n",
       "      <td>2.69</td>\n",
       "      <td>8km W of Willow Creek, CA</td>\n",
       "      <td>1678837664230</td>\n",
       "      <td>1678839911279</td>\n",
       "      <td>None</td>\n",
       "      <td>https://earthquake.usgs.gov/earthquakes/eventp...</td>\n",
       "      <td>https://earthquake.usgs.gov/fdsnws/event/1/que...</td>\n",
       "      <td>NaN</td>\n",
       "      <td>NaN</td>\n",
       "      <td>NaN</td>\n",
       "      <td>...</td>\n",
       "      <td>,nc73856980,</td>\n",
       "      <td>,nc,</td>\n",
       "      <td>,nearby-cities,origin,phase-data,scitech-link,</td>\n",
       "      <td>11.0</td>\n",
       "      <td>0.05501</td>\n",
       "      <td>0.08</td>\n",
       "      <td>148.0</td>\n",
       "      <td>md</td>\n",
       "      <td>earthquake</td>\n",
       "      <td>M 2.7 - 8km W of Willow Creek, CA</td>\n",
       "    </tr>\n",
       "  </tbody>\n",
       "</table>\n",
       "<p>5 rows × 26 columns</p>\n",
       "</div>"
      ],
      "text/plain": [
       "    mag                          place           time        updated    tz  \\\n",
       "0  1.07        99 km W of Adak, Alaska  1678838396940  1678846967330  None   \n",
       "1  1.25        90 km W of Adak, Alaska  1678838360840  1678840931640  None   \n",
       "2  1.57        89 km W of Adak, Alaska  1678838349120  1678841082540  None   \n",
       "3  1.30  35 km SE of Fox River, Alaska  1678838229941  1678842971729  None   \n",
       "4  2.69      8km W of Willow Creek, CA  1678837664230  1678839911279  None   \n",
       "\n",
       "                                                 url  \\\n",
       "0  https://earthquake.usgs.gov/earthquakes/eventp...   \n",
       "1  https://earthquake.usgs.gov/earthquakes/eventp...   \n",
       "2  https://earthquake.usgs.gov/earthquakes/eventp...   \n",
       "3  https://earthquake.usgs.gov/earthquakes/eventp...   \n",
       "4  https://earthquake.usgs.gov/earthquakes/eventp...   \n",
       "\n",
       "                                              detail  felt  cdi  mmi  ...  \\\n",
       "0  https://earthquake.usgs.gov/fdsnws/event/1/que...   NaN  NaN  NaN  ...   \n",
       "1  https://earthquake.usgs.gov/fdsnws/event/1/que...   NaN  NaN  NaN  ...   \n",
       "2  https://earthquake.usgs.gov/fdsnws/event/1/que...   NaN  NaN  NaN  ...   \n",
       "3  https://earthquake.usgs.gov/fdsnws/event/1/que...   NaN  NaN  NaN  ...   \n",
       "4  https://earthquake.usgs.gov/fdsnws/event/1/que...   NaN  NaN  NaN  ...   \n",
       "\n",
       "              ids sources                                           types  \\\n",
       "0    ,av91805791,    ,av,                             ,origin,phase-data,   \n",
       "1    ,av91805786,    ,av,                             ,origin,phase-data,   \n",
       "2    ,av91094268,    ,av,                             ,origin,phase-data,   \n",
       "3  ,ak0233d49eoh,    ,ak,                             ,origin,phase-data,   \n",
       "4    ,nc73856980,    ,nc,  ,nearby-cities,origin,phase-data,scitech-link,   \n",
       "\n",
       "    nst     dmin   rms    gap magType        type  \\\n",
       "0   4.0      NaN  0.16  207.0      ml  earthquake   \n",
       "1   5.0      NaN  0.12  181.0      ml  earthquake   \n",
       "2   5.0      NaN  0.24  201.0      ml  earthquake   \n",
       "3   NaN      NaN  0.28    NaN      ml  earthquake   \n",
       "4  11.0  0.05501  0.08  148.0      md  earthquake   \n",
       "\n",
       "                                   title  \n",
       "0        M 1.1 - 99 km W of Adak, Alaska  \n",
       "1        M 1.3 - 90 km W of Adak, Alaska  \n",
       "2        M 1.6 - 89 km W of Adak, Alaska  \n",
       "3  M 1.3 - 35 km SE of Fox River, Alaska  \n",
       "4      M 2.7 - 8km W of Willow Creek, CA  \n",
       "\n",
       "[5 rows x 26 columns]"
      ]
     },
     "execution_count": 21,
     "metadata": {},
     "output_type": "execute_result"
    }
   ],
   "source": [
    "df.head()"
   ]
  },
  {
   "cell_type": "code",
   "execution_count": 22,
   "metadata": {},
   "outputs": [],
   "source": [
    "import os\n",
    "from flask import Flask, send_file\n",
    "# Save the data to a CSV file\n",
    "filename = 'earthquake_data.csv'\n",
    "df.to_csv(filename, index=False)\n",
    "\n",
    "# Download the CSV file to your local system\n"
   ]
  },
  {
   "cell_type": "code",
   "execution_count": 23,
   "metadata": {},
   "outputs": [],
   "source": [
    "# app = Flask(__name__)\n",
    "# @app.route('/download')\n",
    "# def download():\n",
    "#     filepath = os.path.join(os.getcwd(), filename)\n",
    "#     return send_file(filepath, as_attachment=True)\n",
    "\n",
    "# if __name__ == '__main__':\n",
    "#     app.run()"
   ]
  },
  {
   "cell_type": "code",
   "execution_count": 24,
   "metadata": {},
   "outputs": [
    {
     "data": {
      "text/html": [
       "<div>\n",
       "<style scoped>\n",
       "    .dataframe tbody tr th:only-of-type {\n",
       "        vertical-align: middle;\n",
       "    }\n",
       "\n",
       "    .dataframe tbody tr th {\n",
       "        vertical-align: top;\n",
       "    }\n",
       "\n",
       "    .dataframe thead th {\n",
       "        text-align: right;\n",
       "    }\n",
       "</style>\n",
       "<table border=\"1\" class=\"dataframe\">\n",
       "  <thead>\n",
       "    <tr style=\"text-align: right;\">\n",
       "      <th></th>\n",
       "      <th>mag</th>\n",
       "      <th>place</th>\n",
       "      <th>time</th>\n",
       "      <th>updated</th>\n",
       "      <th>tz</th>\n",
       "      <th>url</th>\n",
       "      <th>detail</th>\n",
       "      <th>felt</th>\n",
       "      <th>cdi</th>\n",
       "      <th>mmi</th>\n",
       "      <th>...</th>\n",
       "      <th>ids</th>\n",
       "      <th>sources</th>\n",
       "      <th>types</th>\n",
       "      <th>nst</th>\n",
       "      <th>dmin</th>\n",
       "      <th>rms</th>\n",
       "      <th>gap</th>\n",
       "      <th>magType</th>\n",
       "      <th>type</th>\n",
       "      <th>title</th>\n",
       "    </tr>\n",
       "  </thead>\n",
       "  <tbody>\n",
       "    <tr>\n",
       "      <th>12321</th>\n",
       "      <td>1.50</td>\n",
       "      <td>14 km ENE of Fox, Alaska</td>\n",
       "      <td>1676246880515</td>\n",
       "      <td>1677103148071</td>\n",
       "      <td>None</td>\n",
       "      <td>https://earthquake.usgs.gov/earthquakes/eventp...</td>\n",
       "      <td>https://earthquake.usgs.gov/fdsnws/event/1/que...</td>\n",
       "      <td>NaN</td>\n",
       "      <td>NaN</td>\n",
       "      <td>NaN</td>\n",
       "      <td>...</td>\n",
       "      <td>,ak02320rozjd,</td>\n",
       "      <td>,ak,</td>\n",
       "      <td>,origin,phase-data,</td>\n",
       "      <td>NaN</td>\n",
       "      <td>NaN</td>\n",
       "      <td>0.53</td>\n",
       "      <td>NaN</td>\n",
       "      <td>ml</td>\n",
       "      <td>explosion</td>\n",
       "      <td>M 1.5 Explosion - 14 km ENE of Fox, Alaska</td>\n",
       "    </tr>\n",
       "    <tr>\n",
       "      <th>12322</th>\n",
       "      <td>1.06</td>\n",
       "      <td>8km NW of The Geysers, CA</td>\n",
       "      <td>1676246603240</td>\n",
       "      <td>1676595733753</td>\n",
       "      <td>None</td>\n",
       "      <td>https://earthquake.usgs.gov/earthquakes/eventp...</td>\n",
       "      <td>https://earthquake.usgs.gov/fdsnws/event/1/que...</td>\n",
       "      <td>NaN</td>\n",
       "      <td>NaN</td>\n",
       "      <td>NaN</td>\n",
       "      <td>...</td>\n",
       "      <td>,nc73845521,</td>\n",
       "      <td>,nc,</td>\n",
       "      <td>,focal-mechanism,nearby-cities,origin,phase-da...</td>\n",
       "      <td>31.0</td>\n",
       "      <td>0.01207</td>\n",
       "      <td>0.03</td>\n",
       "      <td>49.0</td>\n",
       "      <td>md</td>\n",
       "      <td>earthquake</td>\n",
       "      <td>M 1.1 - 8km NW of The Geysers, CA</td>\n",
       "    </tr>\n",
       "  </tbody>\n",
       "</table>\n",
       "<p>2 rows × 26 columns</p>\n",
       "</div>"
      ],
      "text/plain": [
       "        mag                      place           time        updated    tz  \\\n",
       "12321  1.50   14 km ENE of Fox, Alaska  1676246880515  1677103148071  None   \n",
       "12322  1.06  8km NW of The Geysers, CA  1676246603240  1676595733753  None   \n",
       "\n",
       "                                                     url  \\\n",
       "12321  https://earthquake.usgs.gov/earthquakes/eventp...   \n",
       "12322  https://earthquake.usgs.gov/earthquakes/eventp...   \n",
       "\n",
       "                                                  detail  felt  cdi  mmi  ...  \\\n",
       "12321  https://earthquake.usgs.gov/fdsnws/event/1/que...   NaN  NaN  NaN  ...   \n",
       "12322  https://earthquake.usgs.gov/fdsnws/event/1/que...   NaN  NaN  NaN  ...   \n",
       "\n",
       "                  ids sources  \\\n",
       "12321  ,ak02320rozjd,    ,ak,   \n",
       "12322    ,nc73845521,    ,nc,   \n",
       "\n",
       "                                                   types   nst     dmin   rms  \\\n",
       "12321                                ,origin,phase-data,   NaN      NaN  0.53   \n",
       "12322  ,focal-mechanism,nearby-cities,origin,phase-da...  31.0  0.01207  0.03   \n",
       "\n",
       "        gap magType        type                                       title  \n",
       "12321   NaN      ml   explosion  M 1.5 Explosion - 14 km ENE of Fox, Alaska  \n",
       "12322  49.0      md  earthquake           M 1.1 - 8km NW of The Geysers, CA  \n",
       "\n",
       "[2 rows x 26 columns]"
      ]
     },
     "execution_count": 24,
     "metadata": {},
     "output_type": "execute_result"
    }
   ],
   "source": [
    "df.tail(2)"
   ]
  },
  {
   "cell_type": "code",
   "execution_count": 25,
   "metadata": {},
   "outputs": [
    {
     "data": {
      "text/plain": [
       "mag        float64\n",
       "place       object\n",
       "time         int64\n",
       "updated      int64\n",
       "tz          object\n",
       "url         object\n",
       "detail      object\n",
       "felt       float64\n",
       "cdi        float64\n",
       "mmi        float64\n",
       "alert       object\n",
       "status      object\n",
       "tsunami      int64\n",
       "sig          int64\n",
       "net         object\n",
       "code        object\n",
       "ids         object\n",
       "sources     object\n",
       "types       object\n",
       "nst        float64\n",
       "dmin       float64\n",
       "rms        float64\n",
       "gap        float64\n",
       "magType     object\n",
       "type        object\n",
       "title       object\n",
       "dtype: object"
      ]
     },
     "execution_count": 25,
     "metadata": {},
     "output_type": "execute_result"
    }
   ],
   "source": [
    "df.dtypes"
   ]
  },
  {
   "cell_type": "code",
   "execution_count": 26,
   "metadata": {},
   "outputs": [
    {
     "name": "stdout",
     "output_type": "stream",
     "text": [
      "<class 'pandas.core.frame.DataFrame'>\n",
      "RangeIndex: 12323 entries, 0 to 12322\n",
      "Data columns (total 26 columns):\n",
      " #   Column   Non-Null Count  Dtype  \n",
      "---  ------   --------------  -----  \n",
      " 0   mag      12323 non-null  float64\n",
      " 1   place    12056 non-null  object \n",
      " 2   time     12323 non-null  int64  \n",
      " 3   updated  12323 non-null  int64  \n",
      " 4   tz       0 non-null      object \n",
      " 5   url      12323 non-null  object \n",
      " 6   detail   12323 non-null  object \n",
      " 7   felt     596 non-null    float64\n",
      " 8   cdi      596 non-null    float64\n",
      " 9   mmi      138 non-null    float64\n",
      " 10  alert    63 non-null     object \n",
      " 11  status   12323 non-null  object \n",
      " 12  tsunami  12323 non-null  int64  \n",
      " 13  sig      12323 non-null  int64  \n",
      " 14  net      12323 non-null  object \n",
      " 15  code     12323 non-null  object \n",
      " 16  ids      12323 non-null  object \n",
      " 17  sources  12323 non-null  object \n",
      " 18  types    12323 non-null  object \n",
      " 19  nst      8884 non-null   float64\n",
      " 20  dmin     5775 non-null   float64\n",
      " 21  rms      12323 non-null  float64\n",
      " 22  gap      8882 non-null   float64\n",
      " 23  magType  12323 non-null  object \n",
      " 24  type     12323 non-null  object \n",
      " 25  title    12323 non-null  object \n",
      "dtypes: float64(8), int64(4), object(14)\n",
      "memory usage: 2.4+ MB\n"
     ]
    }
   ],
   "source": [
    "df.info ()"
   ]
  },
  {
   "cell_type": "code",
   "execution_count": 27,
   "metadata": {},
   "outputs": [
    {
     "data": {
      "text/html": [
       "<div>\n",
       "<style scoped>\n",
       "    .dataframe tbody tr th:only-of-type {\n",
       "        vertical-align: middle;\n",
       "    }\n",
       "\n",
       "    .dataframe tbody tr th {\n",
       "        vertical-align: top;\n",
       "    }\n",
       "\n",
       "    .dataframe thead th {\n",
       "        text-align: right;\n",
       "    }\n",
       "</style>\n",
       "<table border=\"1\" class=\"dataframe\">\n",
       "  <thead>\n",
       "    <tr style=\"text-align: right;\">\n",
       "      <th></th>\n",
       "      <th>mag</th>\n",
       "      <th>time</th>\n",
       "      <th>updated</th>\n",
       "      <th>felt</th>\n",
       "      <th>cdi</th>\n",
       "      <th>mmi</th>\n",
       "      <th>tsunami</th>\n",
       "      <th>sig</th>\n",
       "      <th>nst</th>\n",
       "      <th>dmin</th>\n",
       "      <th>rms</th>\n",
       "      <th>gap</th>\n",
       "    </tr>\n",
       "  </thead>\n",
       "  <tbody>\n",
       "    <tr>\n",
       "      <th>count</th>\n",
       "      <td>12323.000000</td>\n",
       "      <td>1.232300e+04</td>\n",
       "      <td>1.232300e+04</td>\n",
       "      <td>596.000000</td>\n",
       "      <td>596.000000</td>\n",
       "      <td>138.000000</td>\n",
       "      <td>12323.000000</td>\n",
       "      <td>12323.000000</td>\n",
       "      <td>8884.000000</td>\n",
       "      <td>5775.000000</td>\n",
       "      <td>12323.000000</td>\n",
       "      <td>8882.000000</td>\n",
       "    </tr>\n",
       "    <tr>\n",
       "      <th>mean</th>\n",
       "      <td>1.588665</td>\n",
       "      <td>1.677583e+12</td>\n",
       "      <td>1.677931e+12</td>\n",
       "      <td>13.679530</td>\n",
       "      <td>2.731879</td>\n",
       "      <td>3.514913</td>\n",
       "      <td>0.001136</td>\n",
       "      <td>61.444778</td>\n",
       "      <td>19.670982</td>\n",
       "      <td>0.620488</td>\n",
       "      <td>0.304667</td>\n",
       "      <td>131.724703</td>\n",
       "    </tr>\n",
       "    <tr>\n",
       "      <th>std</th>\n",
       "      <td>1.205202</td>\n",
       "      <td>7.569025e+08</td>\n",
       "      <td>7.183547e+08</td>\n",
       "      <td>73.854886</td>\n",
       "      <td>1.445418</td>\n",
       "      <td>1.579111</td>\n",
       "      <td>0.033688</td>\n",
       "      <td>93.073982</td>\n",
       "      <td>22.429630</td>\n",
       "      <td>1.981483</td>\n",
       "      <td>0.274270</td>\n",
       "      <td>67.418898</td>\n",
       "    </tr>\n",
       "    <tr>\n",
       "      <th>min</th>\n",
       "      <td>-1.330000</td>\n",
       "      <td>1.676247e+12</td>\n",
       "      <td>1.676252e+12</td>\n",
       "      <td>0.000000</td>\n",
       "      <td>0.000000</td>\n",
       "      <td>0.000000</td>\n",
       "      <td>0.000000</td>\n",
       "      <td>0.000000</td>\n",
       "      <td>0.000000</td>\n",
       "      <td>0.000000</td>\n",
       "      <td>0.000000</td>\n",
       "      <td>13.000000</td>\n",
       "    </tr>\n",
       "    <tr>\n",
       "      <th>25%</th>\n",
       "      <td>0.890000</td>\n",
       "      <td>1.676908e+12</td>\n",
       "      <td>1.677457e+12</td>\n",
       "      <td>1.000000</td>\n",
       "      <td>2.000000</td>\n",
       "      <td>2.808250</td>\n",
       "      <td>0.000000</td>\n",
       "      <td>12.000000</td>\n",
       "      <td>6.000000</td>\n",
       "      <td>0.014035</td>\n",
       "      <td>0.090000</td>\n",
       "      <td>77.000000</td>\n",
       "    </tr>\n",
       "    <tr>\n",
       "      <th>50%</th>\n",
       "      <td>1.380000</td>\n",
       "      <td>1.677610e+12</td>\n",
       "      <td>1.677953e+12</td>\n",
       "      <td>1.500000</td>\n",
       "      <td>2.500000</td>\n",
       "      <td>3.484500</td>\n",
       "      <td>0.000000</td>\n",
       "      <td>29.000000</td>\n",
       "      <td>12.000000</td>\n",
       "      <td>0.055567</td>\n",
       "      <td>0.190000</td>\n",
       "      <td>120.000000</td>\n",
       "    </tr>\n",
       "    <tr>\n",
       "      <th>75%</th>\n",
       "      <td>2.000000</td>\n",
       "      <td>1.678288e+12</td>\n",
       "      <td>1.678529e+12</td>\n",
       "      <td>5.000000</td>\n",
       "      <td>3.400000</td>\n",
       "      <td>4.411750</td>\n",
       "      <td>0.000000</td>\n",
       "      <td>62.000000</td>\n",
       "      <td>25.000000</td>\n",
       "      <td>0.238600</td>\n",
       "      <td>0.500000</td>\n",
       "      <td>177.000000</td>\n",
       "    </tr>\n",
       "    <tr>\n",
       "      <th>max</th>\n",
       "      <td>6.900000</td>\n",
       "      <td>1.678838e+12</td>\n",
       "      <td>1.679004e+12</td>\n",
       "      <td>1447.000000</td>\n",
       "      <td>9.100000</td>\n",
       "      <td>8.363000</td>\n",
       "      <td>1.000000</td>\n",
       "      <td>2494.000000</td>\n",
       "      <td>345.000000</td>\n",
       "      <td>33.976000</td>\n",
       "      <td>1.700000</td>\n",
       "      <td>349.000000</td>\n",
       "    </tr>\n",
       "  </tbody>\n",
       "</table>\n",
       "</div>"
      ],
      "text/plain": [
       "                mag          time       updated         felt         cdi  \\\n",
       "count  12323.000000  1.232300e+04  1.232300e+04   596.000000  596.000000   \n",
       "mean       1.588665  1.677583e+12  1.677931e+12    13.679530    2.731879   \n",
       "std        1.205202  7.569025e+08  7.183547e+08    73.854886    1.445418   \n",
       "min       -1.330000  1.676247e+12  1.676252e+12     0.000000    0.000000   \n",
       "25%        0.890000  1.676908e+12  1.677457e+12     1.000000    2.000000   \n",
       "50%        1.380000  1.677610e+12  1.677953e+12     1.500000    2.500000   \n",
       "75%        2.000000  1.678288e+12  1.678529e+12     5.000000    3.400000   \n",
       "max        6.900000  1.678838e+12  1.679004e+12  1447.000000    9.100000   \n",
       "\n",
       "              mmi       tsunami           sig          nst         dmin  \\\n",
       "count  138.000000  12323.000000  12323.000000  8884.000000  5775.000000   \n",
       "mean     3.514913      0.001136     61.444778    19.670982     0.620488   \n",
       "std      1.579111      0.033688     93.073982    22.429630     1.981483   \n",
       "min      0.000000      0.000000      0.000000     0.000000     0.000000   \n",
       "25%      2.808250      0.000000     12.000000     6.000000     0.014035   \n",
       "50%      3.484500      0.000000     29.000000    12.000000     0.055567   \n",
       "75%      4.411750      0.000000     62.000000    25.000000     0.238600   \n",
       "max      8.363000      1.000000   2494.000000   345.000000    33.976000   \n",
       "\n",
       "                rms          gap  \n",
       "count  12323.000000  8882.000000  \n",
       "mean       0.304667   131.724703  \n",
       "std        0.274270    67.418898  \n",
       "min        0.000000    13.000000  \n",
       "25%        0.090000    77.000000  \n",
       "50%        0.190000   120.000000  \n",
       "75%        0.500000   177.000000  \n",
       "max        1.700000   349.000000  "
      ]
     },
     "execution_count": 27,
     "metadata": {},
     "output_type": "execute_result"
    }
   ],
   "source": [
    "df.describe()"
   ]
  },
  {
   "cell_type": "code",
   "execution_count": 28,
   "metadata": {},
   "outputs": [
    {
     "data": {
      "text/plain": [
       "array([None, 'green', 'red'], dtype=object)"
      ]
     },
     "execution_count": 28,
     "metadata": {},
     "output_type": "execute_result"
    }
   ],
   "source": [
    "df.alert.unique()"
   ]
  },
  {
   "cell_type": "code",
   "execution_count": 29,
   "metadata": {},
   "outputs": [
    {
     "data": {
      "text/plain": [
       "green    62\n",
       "red       1\n",
       "Name: alert, dtype: int64"
      ]
     },
     "execution_count": 29,
     "metadata": {},
     "output_type": "execute_result"
    }
   ],
   "source": [
    "df.alert.value_counts()"
   ]
  },
  {
   "cell_type": "code",
   "execution_count": 30,
   "metadata": {},
   "outputs": [
    {
     "data": {
      "text/plain": [
       "0    green\n",
       "Name: alert, dtype: object"
      ]
     },
     "execution_count": 30,
     "metadata": {},
     "output_type": "execute_result"
    }
   ],
   "source": [
    "df.alert.mode()"
   ]
  },
  {
   "cell_type": "code",
   "execution_count": 31,
   "metadata": {},
   "outputs": [
    {
     "data": {
      "text/plain": [
       "array([',av,', ',ak,', ',nc,', ',us,', ',ak,us,', ',av,us,', ',us,pr,',\n",
       "       ',tx,us,', ',uu,', ',pr,', ',nc,nn,', ',hv,', ',ok,', ',uw,',\n",
       "       ',us,tx,', ',us,usauto,pt,', ',nc,us,', ',ci,', ',nc,nn,us,',\n",
       "       ',nn,', ',av,ak,', ',us,usauto,', ',ci,us,', ',nn,us,', ',nm,',\n",
       "       ',tx,', ',nn,nc,', ',us,ak,', ',av,us,ak,', ',us,usauto,at,pt,',\n",
       "       ',us,hv,', ',usauto,us,', ',us,uu,', ',ak,av,', ',at,us,',\n",
       "       ',us,pt,', ',pr,us,', ',usauto,pt,us,', ',av,ak,ak,', ',hv,us,',\n",
       "       ',av,ak,us,', ',av,av,us,', ',se,', ',us,nc,', ',av,av,ak,',\n",
       "       ',us,ok,', ',ak,us,ak,', ',us,nn,', ',us,uw,', ',at,us,ak,',\n",
       "       ',uu,us,', ',ew,nc,us,', ',us,pt,at,usauto,', ',us,pr,pt,',\n",
       "       ',nc,uw,', ',at,us,pt,usauto,', ',nn,uw,', ',pt,us,', ',uw,us,',\n",
       "       ',ak,at,us,', ',us,nm,', ',ak,ak,us,', ',uw,nn,', ',ok,us,',\n",
       "       ',av,ak,us,ak,', ',at,pt,us,usauto,', ',us,usauto,pt,at,',\n",
       "       ',us,av,ak,', ',ak,at,usauto,pt,us,', ',nn,uu,', ',se,us,',\n",
       "       ',ak,av,us,', ',us,at,usauto,ak,', ',pt,hv,us,', ',tx,us,tx,',\n",
       "       ',nn,nc,us,'], dtype=object)"
      ]
     },
     "execution_count": 31,
     "metadata": {},
     "output_type": "execute_result"
    }
   ],
   "source": [
    "df.sources.unique()"
   ]
  },
  {
   "cell_type": "code",
   "execution_count": 32,
   "metadata": {},
   "outputs": [],
   "source": [
    "import matplotlib.pyplot as plt # I suddenly wanted to try plotting against two Series in the DataFrame"
   ]
  },
  {
   "cell_type": "code",
   "execution_count": 33,
   "metadata": {},
   "outputs": [
    {
     "data": {
      "image/png": "[encoded data removed]",
      "text/plain": [
       "<Figure size 640x480 with 1 Axes>"
      ]
     },
     "metadata": {},
     "output_type": "display_data"
    }
   ],
   "source": [
    "df.plot.scatter(x = 'mag', y = 'time')\n",
    "plt.xlabel('time')\n",
    "plt.ylabel('magnitude')\n",
    "plt.title('Scatter plot of Magnitude against time')\n",
    "plt.show() # The graph doesn't really tell me anything but it's cool"
   ]
  },
  {
   "cell_type": "code",
   "execution_count": 53,
   "metadata": {},
   "outputs": [
    {
     "data": {
      "image/png": "[encoded data removed]",
      "text/plain": [
       "<Figure size 640x480 with 1 Axes>"
      ]
     },
     "metadata": {},
     "output_type": "display_data"
    }
   ],
   "source": [
    "# Create the box plot\n",
    "df.plot.box(x='mag', y='time', color='blue')\n",
    "\n",
    "plt.xlabel('x')\n",
    "plt.ylabel('magnitude')\n",
    "plt.grid(True)\n",
    "plt.title('A box plot of Magnitude against time')\n",
    "plt.show() # this box plot is even more confusing\n"
   ]
  },
  {
   "attachments": {},
   "cell_type": "markdown",
   "metadata": {},
   "source": [
    "# Box plots \n",
    "Ah a box plot. I was first confused about it so I went on a reading spree on what a box plot aims to achieve. Here's what I learnt\n",
    "1) Box plots show the <b>quartiles</b> of a graph and the outliers (I will get to this)<br>\n",
    "2) The lines that resemble a T are the <b>whiskers</b>, they represent from the <b>min value</b> to the first quartile(25th <b>percentile</b>) and the 3rd quartile<br>(75th percentile) to the <b>max value</b>.<br><br>\n",
    "3) The 1st quartile to the 3rd quartile represent the <b>box</b> and the line in the box is the <strong>median</strong>.\n",
    "4) The entire box is the <b>interquartile range</b>.\n",
    "5) When the median line is in the middle, we can say the values are evenly distributed also known as a <strong>normal distribution.</strong><br><br>\n",
    "6) When the median isn't in the middle the box plot becomes assymetrical, this is known as <b>skewness</b>.\n",
    "7) When the median is closer to the 1st quartile, this is called a negative skew. In a negative skew, the data is concentrated towards<br> the lower part of the plot so the median is a better measure of the central tendency of the data.\n",
    "8) When the median is closer to the 3rd quartile, this is called a positive skew, the data is concentrated towards the higher part of the plot.<br><br>\n",
    "9) Skewness in data usually has to be solved before moving forward.\n",
    "10) <strong>Outliers</strong> are values outside the whiskers, they are either removed or undergo some other statistical processes. They are typically defined by 1.5 times the interquartile range."
   ]
  },
  {
   "cell_type": "code",
   "execution_count": 54,
   "metadata": {},
   "outputs": [
    {
     "data": {
      "image/png": "[encoded data removed]",
      "text/plain": [
       "<Figure size 640x480 with 1 Axes>"
      ]
     },
     "metadata": {},
     "output_type": "display_data"
    }
   ],
   "source": [
    "grouped_data = [df.loc[df['mag'] == mag, 'time'] for mag in df['mag'].unique()]\n",
    "\n",
    "# Create a figure with a single axis\n",
    "fig, ax = plt.subplots()\n",
    "\n",
    "# Create the box plot\n",
    "ax.boxplot(grouped_data, labels=df['mag'].unique(), vert=False, patch_artist=True)\n",
    "\n",
    "# Add the scatter plot\n",
    "ax.scatter(df['time'], df['mag'], s=10, color='black')\n",
    "\n",
    "# Add labels and title\n",
    "ax.set_xlabel('Time')\n",
    "ax.set_ylabel('Magnitude')\n",
    "ax.set_title('Box plot of Time against Magnitude')\n",
    "\n",
    "# Show the plot\n",
    "plt.show()"
   ]
  },
  {
   "attachments": {},
   "cell_type": "markdown",
   "metadata": {},
   "source": [
    "I don't know what happened here, the plan was to draw the scatter plot of the graph alongside the box plot and I asked ChatGPT what to do, it gave me this horror beyond my wildest dreams. I like it tho so I will keep it"
   ]
  },
  {
   "cell_type": "code",
   "execution_count": 56,
   "metadata": {},
   "outputs": [
    {
     "data": {
      "text/html": [
       "<div>\n",
       "<style scoped>\n",
       "    .dataframe tbody tr th:only-of-type {\n",
       "        vertical-align: middle;\n",
       "    }\n",
       "\n",
       "    .dataframe tbody tr th {\n",
       "        vertical-align: top;\n",
       "    }\n",
       "\n",
       "    .dataframe thead th {\n",
       "        text-align: right;\n",
       "    }\n",
       "</style>\n",
       "<table border=\"1\" class=\"dataframe\">\n",
       "  <thead>\n",
       "    <tr style=\"text-align: right;\">\n",
       "      <th></th>\n",
       "      <th>mag</th>\n",
       "      <th>time</th>\n",
       "    </tr>\n",
       "  </thead>\n",
       "  <tbody>\n",
       "    <tr>\n",
       "      <th>100</th>\n",
       "      <td>1.40</td>\n",
       "      <td>1678811607629</td>\n",
       "    </tr>\n",
       "    <tr>\n",
       "      <th>101</th>\n",
       "      <td>1.70</td>\n",
       "      <td>1678811510482</td>\n",
       "    </tr>\n",
       "    <tr>\n",
       "      <th>102</th>\n",
       "      <td>1.40</td>\n",
       "      <td>1678811277697</td>\n",
       "    </tr>\n",
       "    <tr>\n",
       "      <th>103</th>\n",
       "      <td>1.25</td>\n",
       "      <td>1678811118490</td>\n",
       "    </tr>\n",
       "    <tr>\n",
       "      <th>104</th>\n",
       "      <td>1.00</td>\n",
       "      <td>1678810895256</td>\n",
       "    </tr>\n",
       "    <tr>\n",
       "      <th>105</th>\n",
       "      <td>1.68</td>\n",
       "      <td>1678810656990</td>\n",
       "    </tr>\n",
       "    <tr>\n",
       "      <th>106</th>\n",
       "      <td>1.36</td>\n",
       "      <td>1678809881700</td>\n",
       "    </tr>\n",
       "    <tr>\n",
       "      <th>107</th>\n",
       "      <td>3.22</td>\n",
       "      <td>1678809881560</td>\n",
       "    </tr>\n",
       "    <tr>\n",
       "      <th>108</th>\n",
       "      <td>-0.92</td>\n",
       "      <td>1678809866230</td>\n",
       "    </tr>\n",
       "    <tr>\n",
       "      <th>109</th>\n",
       "      <td>0.11</td>\n",
       "      <td>1678809650860</td>\n",
       "    </tr>\n",
       "    <tr>\n",
       "      <th>110</th>\n",
       "      <td>1.16</td>\n",
       "      <td>1678809350020</td>\n",
       "    </tr>\n",
       "  </tbody>\n",
       "</table>\n",
       "</div>"
      ],
      "text/plain": [
       "      mag           time\n",
       "100  1.40  1678811607629\n",
       "101  1.70  1678811510482\n",
       "102  1.40  1678811277697\n",
       "103  1.25  1678811118490\n",
       "104  1.00  1678810895256\n",
       "105  1.68  1678810656990\n",
       "106  1.36  1678809881700\n",
       "107  3.22  1678809881560\n",
       "108 -0.92  1678809866230\n",
       "109  0.11  1678809650860\n",
       "110  1.16  1678809350020"
      ]
     },
     "execution_count": 56,
     "metadata": {},
     "output_type": "execute_result"
    }
   ],
   "source": [
    "df[['mag','time']][100:111]"
   ]
  },
  {
   "cell_type": "code",
   "execution_count": 57,
   "metadata": {},
   "outputs": [
    {
     "name": "stderr",
     "output_type": "stream",
     "text": [
      "C:\\Users\\ukpsa\\AppData\\Local\\Temp\\ipykernel_11144\\2916346428.py:1: SettingWithCopyWarning: \n",
      "A value is trying to be set on a copy of a slice from a DataFrame.\n",
      "Try using .loc[row_indexer,col_indexer] = value instead\n",
      "\n",
      "See the caveats in the documentation: https://pandas.pydata.org/pandas-docs/stable/user_guide/indexing.html#returning-a-view-versus-a-copy\n",
      "  df[110:121]['title'] = df[110:121]['title'].str.lower()\n"
     ]
    }
   ],
   "source": [
    "df[110:121]['title'] = df[110:121]['title'].str.lower()"
   ]
  },
  {
   "cell_type": "code",
   "execution_count": null,
   "metadata": {},
   "outputs": [],
   "source": []
  }
 ],
 "metadata": {
  "kernelspec": {
   "display_name": "Python 3",
   "language": "python",
   "name": "python3"
  },
  "language_info": {
   "codemirror_mode": {
    "name": "ipython",
    "version": 3
   },
   "file_extension": ".py",
   "mimetype": "text/x-python",
   "name": "python",
   "nbconvert_exporter": "python",
   "pygments_lexer": "ipython3",
   "version": "3.10.10"
  },
  "orig_nbformat": 4
 },
 "nbformat": 4,
 "nbformat_minor": 2
}
